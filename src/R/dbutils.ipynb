{
 "cells": [
  {
   "cell_type": "markdown",
   "id": "thermal-uruguay",
   "metadata": {},
   "source": [
    "## R database utility scripts for OMOP-GIS  \n",
    "\n",
    "TODO: move all data tables out of postgres maintenance database"
   ]
  },
  {
   "cell_type": "code",
   "execution_count": 9,
   "id": "junior-rates",
   "metadata": {},
   "outputs": [],
   "source": [
    "#install.packages(\"DBI\")\n",
    "library(DBI)"
   ]
  },
  {
   "cell_type": "code",
   "execution_count": 14,
   "id": "previous-brick",
   "metadata": {},
   "outputs": [],
   "source": [
    "# make db connection\n",
    "db_con <- function() {\n",
    "    # realy only need Sys.getenv, reletive path is for development in jupyter\n",
    "    pwfile <- ifelse(\n",
    "        Sys.getenv('POSTGRES_PASSWORD_FILE')=='',\n",
    "        '../../docker/postgis/postgres-passwd', \n",
    "        Sys.getenv('POSTGRES_PASSWORD_FILE')\n",
    "    )\n",
    "    pg_passwd <- pg_passwd <- readLines( pwfile, warn=FALSE )\n",
    "    con <- dbConnect(RPostgres::Postgres(),\n",
    "        dbname = 'postgres',\n",
    "        host = 'localhost',\n",
    "        port = 5433,\n",
    "        user = 'postgres',\n",
    "        password = pg_passwd\n",
    "    )\n",
    "    return(con)\n",
    "}\n",
    "\n",
    "# create geom and attr table with id sequences and contraints\n",
    "# TODO: geom_index, attr_index, and data_source\n",
    "instantiate_geom <- function(con,geom_tablename,geom_type,attr_tablename) {\n",
    "    \n",
    "    # create id sequence and geom table\n",
    "    instantiate_table(con,geom_tablename,paste0(\"geom_\",geom_type))\n",
    "    \n",
    "    # geom table add keys and relations\n",
    "    sql_altergeom <- paste0(\n",
    "        \"ALTER TABLE \",geom_tablename,\n",
    "        \" ADD CONSTRAINT \",geom_tablename,\"_id_pkey PRIMARY KEY (geom_record_id), \n",
    "        ALTER COLUMN geom_record_id SET DEFAULT nextval('\",geom_tablename,\"_id_seq'::regclass)\")\n",
    "    req <- dbSendQuery(con,sql_altergeom)\n",
    "    dbClearResult(req)\n",
    "    \n",
    "    # create id sequence and attr table\n",
    "    instantiate_table(con,attr_tablename,\"attr\")\n",
    "\n",
    "    #attr table add keys and relations\n",
    "    sql_alterattr <- paste0(\n",
    "        \"ALTER TABLE \",attr_tablename,\n",
    "        \" ADD CONSTRAINT \",attr_tablename,\"_id_pkey PRIMARY KEY (attr_record_id),\n",
    "        ALTER COLUMN attr_record_id SET DEFAULT nextval('\",attr_tablename,\"_id_seq\",\"'::regclass), \n",
    "        ADD CONSTRAINT \",attr_tablename,\"_geo_record_id_fkey FOREIGN KEY (geom_record_id)\n",
    "        REFERENCES \",geom_tablename,\" (geom_record_id) MATCH SIMPLE\n",
    "        ON UPDATE NO ACTION ON DELETE NO ACTION\"\n",
    "    )\n",
    "    req <- dbSendQuery(con,sql_alterattr)\n",
    "    dbClearResult(req)\n",
    "    \n",
    "}\n",
    "\n",
    "instantiate_table <- function(con,tablename,table_template) {\n",
    "    \n",
    "    # table id sequence\n",
    "    sql_createidseq <- paste0(\n",
    "        \"CREATE SEQUENCE \",tablename,\"_id_seq \n",
    "         INCREMENT 1 START 1 \n",
    "         MINVALUE 1 MAXVALUE 9223372036854775807 CACHE 1\"\n",
    "    )\n",
    "    req <- dbSendQuery(con,sql_createidseq)\n",
    "    dbClearResult(req)\n",
    "\n",
    "    # table as clone\n",
    "    sql_createtable <- paste0(\n",
    "        \"CREATE TABLE \",tablename,\" AS \n",
    "         SELECT * FROM \",table_template,\" WITH NO DATA\")\n",
    "    req <- dbSendQuery(con,sql_createtable)\n",
    "    dbClearResult(req)\n",
    "    \n",
    "}"
   ]
  },
  {
   "cell_type": "code",
   "execution_count": 15,
   "id": "informal-trade",
   "metadata": {
    "scrolled": true
   },
   "outputs": [
    {
     "data": {
      "text/html": [
       "<style>\n",
       ".list-inline {list-style: none; margin:0; padding: 0}\n",
       ".list-inline>li {display: inline-block}\n",
       ".list-inline>li:not(:last-child)::after {content: \"\\00b7\"; padding: 0 .5ex}\n",
       "</style>\n",
       "<ol class=list-inline><li>'geocode_settings'</li><li>'geography_columns'</li><li>'geometry_columns'</li><li>'spatial_ref_sys'</li><li>'geocode_settings_default'</li><li>'direction_lookup'</li><li>'secondary_unit_lookup'</li><li>'state_lookup'</li><li>'street_type_lookup'</li><li>'place_lookup'</li><li>'county_lookup'</li><li>'countysub_lookup'</li><li>'zip_lookup_all'</li><li>'zip_lookup_base'</li><li>'zip_lookup'</li><li>'county'</li><li>'state'</li><li>'place'</li><li>'zip_state'</li><li>'zip_state_loc'</li><li>'cousub'</li><li>'edges'</li><li>'addrfeat'</li><li>'faces'</li><li>'featnames'</li><li>'addr'</li><li>'zcta5'</li><li>'loader_platform'</li><li>'loader_variables'</li><li>'loader_lookuptables'</li><li>'tract'</li><li>'tabblock'</li><li>'bg'</li><li>'pagc_gaz'</li><li>'pagc_lex'</li><li>'pagc_rules'</li><li>'attr_index'</li><li>'attr'</li><li>'data_source'</li><li>'geom_index'</li><li>'location'</li><li>'geom_point'</li><li>'geom_multipoly'</li></ol>\n"
      ],
      "text/latex": [
       "\\begin{enumerate*}\n",
       "\\item 'geocode\\_settings'\n",
       "\\item 'geography\\_columns'\n",
       "\\item 'geometry\\_columns'\n",
       "\\item 'spatial\\_ref\\_sys'\n",
       "\\item 'geocode\\_settings\\_default'\n",
       "\\item 'direction\\_lookup'\n",
       "\\item 'secondary\\_unit\\_lookup'\n",
       "\\item 'state\\_lookup'\n",
       "\\item 'street\\_type\\_lookup'\n",
       "\\item 'place\\_lookup'\n",
       "\\item 'county\\_lookup'\n",
       "\\item 'countysub\\_lookup'\n",
       "\\item 'zip\\_lookup\\_all'\n",
       "\\item 'zip\\_lookup\\_base'\n",
       "\\item 'zip\\_lookup'\n",
       "\\item 'county'\n",
       "\\item 'state'\n",
       "\\item 'place'\n",
       "\\item 'zip\\_state'\n",
       "\\item 'zip\\_state\\_loc'\n",
       "\\item 'cousub'\n",
       "\\item 'edges'\n",
       "\\item 'addrfeat'\n",
       "\\item 'faces'\n",
       "\\item 'featnames'\n",
       "\\item 'addr'\n",
       "\\item 'zcta5'\n",
       "\\item 'loader\\_platform'\n",
       "\\item 'loader\\_variables'\n",
       "\\item 'loader\\_lookuptables'\n",
       "\\item 'tract'\n",
       "\\item 'tabblock'\n",
       "\\item 'bg'\n",
       "\\item 'pagc\\_gaz'\n",
       "\\item 'pagc\\_lex'\n",
       "\\item 'pagc\\_rules'\n",
       "\\item 'attr\\_index'\n",
       "\\item 'attr'\n",
       "\\item 'data\\_source'\n",
       "\\item 'geom\\_index'\n",
       "\\item 'location'\n",
       "\\item 'geom\\_point'\n",
       "\\item 'geom\\_multipoly'\n",
       "\\end{enumerate*}\n"
      ],
      "text/markdown": [
       "1. 'geocode_settings'\n",
       "2. 'geography_columns'\n",
       "3. 'geometry_columns'\n",
       "4. 'spatial_ref_sys'\n",
       "5. 'geocode_settings_default'\n",
       "6. 'direction_lookup'\n",
       "7. 'secondary_unit_lookup'\n",
       "8. 'state_lookup'\n",
       "9. 'street_type_lookup'\n",
       "10. 'place_lookup'\n",
       "11. 'county_lookup'\n",
       "12. 'countysub_lookup'\n",
       "13. 'zip_lookup_all'\n",
       "14. 'zip_lookup_base'\n",
       "15. 'zip_lookup'\n",
       "16. 'county'\n",
       "17. 'state'\n",
       "18. 'place'\n",
       "19. 'zip_state'\n",
       "20. 'zip_state_loc'\n",
       "21. 'cousub'\n",
       "22. 'edges'\n",
       "23. 'addrfeat'\n",
       "24. 'faces'\n",
       "25. 'featnames'\n",
       "26. 'addr'\n",
       "27. 'zcta5'\n",
       "28. 'loader_platform'\n",
       "29. 'loader_variables'\n",
       "30. 'loader_lookuptables'\n",
       "31. 'tract'\n",
       "32. 'tabblock'\n",
       "33. 'bg'\n",
       "34. 'pagc_gaz'\n",
       "35. 'pagc_lex'\n",
       "36. 'pagc_rules'\n",
       "37. 'attr_index'\n",
       "38. 'attr'\n",
       "39. 'data_source'\n",
       "40. 'geom_index'\n",
       "41. 'location'\n",
       "42. 'geom_point'\n",
       "43. 'geom_multipoly'\n",
       "\n",
       "\n"
      ],
      "text/plain": [
       " [1] \"geocode_settings\"         \"geography_columns\"       \n",
       " [3] \"geometry_columns\"         \"spatial_ref_sys\"         \n",
       " [5] \"geocode_settings_default\" \"direction_lookup\"        \n",
       " [7] \"secondary_unit_lookup\"    \"state_lookup\"            \n",
       " [9] \"street_type_lookup\"       \"place_lookup\"            \n",
       "[11] \"county_lookup\"            \"countysub_lookup\"        \n",
       "[13] \"zip_lookup_all\"           \"zip_lookup_base\"         \n",
       "[15] \"zip_lookup\"               \"county\"                  \n",
       "[17] \"state\"                    \"place\"                   \n",
       "[19] \"zip_state\"                \"zip_state_loc\"           \n",
       "[21] \"cousub\"                   \"edges\"                   \n",
       "[23] \"addrfeat\"                 \"faces\"                   \n",
       "[25] \"featnames\"                \"addr\"                    \n",
       "[27] \"zcta5\"                    \"loader_platform\"         \n",
       "[29] \"loader_variables\"         \"loader_lookuptables\"     \n",
       "[31] \"tract\"                    \"tabblock\"                \n",
       "[33] \"bg\"                       \"pagc_gaz\"                \n",
       "[35] \"pagc_lex\"                 \"pagc_rules\"              \n",
       "[37] \"attr_index\"               \"attr\"                    \n",
       "[39] \"data_source\"              \"geom_index\"              \n",
       "[41] \"location\"                 \"geom_point\"              \n",
       "[43] \"geom_multipoly\"          "
      ]
     },
     "metadata": {},
     "output_type": "display_data"
    }
   ],
   "source": [
    "# check the connection\n",
    "con <- db_con()\n",
    "dbListTables(con)"
   ]
  },
  {
   "cell_type": "code",
   "execution_count": null,
   "id": "armed-relations",
   "metadata": {},
   "outputs": [],
   "source": [
    "# test instantiation\n",
    "instantiate_geom(con,'geo_us_epa_aqs_sites','point','attr_us_epa_pm25_2018')"
   ]
  },
  {
   "cell_type": "code",
   "execution_count": 5,
   "id": "requested-convertible",
   "metadata": {},
   "outputs": [],
   "source": [
    "pg_passwd <- Sys.getenv('POSTGRES_PASSWORD_FILE')\n",
    "if (pg_passwd == '') {\n",
    "    pg_passwd <- readLines( '../../docker/postgis/postgres-passwd', warn=FALSE )\n",
    "}"
   ]
  },
  {
   "cell_type": "code",
   "execution_count": 6,
   "id": "nuclear-agent",
   "metadata": {},
   "outputs": [
    {
     "data": {
      "text/html": [
       "'postgresOMOP'"
      ],
      "text/latex": [
       "'postgresOMOP'"
      ],
      "text/markdown": [
       "'postgresOMOP'"
      ],
      "text/plain": [
       "[1] \"postgresOMOP\""
      ]
     },
     "metadata": {},
     "output_type": "display_data"
    }
   ],
   "source": [
    "pg_passwd"
   ]
  },
  {
   "cell_type": "code",
   "execution_count": null,
   "id": "breeding-notice",
   "metadata": {},
   "outputs": [],
   "source": []
  }
 ],
 "metadata": {
  "kernelspec": {
   "display_name": "R",
   "language": "R",
   "name": "ir"
  },
  "language_info": {
   "codemirror_mode": "r",
   "file_extension": ".r",
   "mimetype": "text/x-r-source",
   "name": "R",
   "pygments_lexer": "r",
   "version": "4.0.3"
  }
 },
 "nbformat": 4,
 "nbformat_minor": 5
}
