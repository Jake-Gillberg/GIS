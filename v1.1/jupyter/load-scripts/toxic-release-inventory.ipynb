{
 "cells": [
  {
   "cell_type": "markdown",
   "metadata": {},
   "source": [
    "## R script for OMOP to load Toxic Release Inventory data"
   ]
  },
  {
   "cell_type": "markdown",
   "metadata": {},
   "source": [
    "### Setup"
   ]
  },
  {
   "cell_type": "code",
   "execution_count": 78,
   "metadata": {},
   "outputs": [
    {
     "data": {
      "text/html": [
       "<ol class=list-inline>\n",
       "\t<li>'spatial_ref_sys'</li>\n",
       "\t<li>'geography_columns'</li>\n",
       "\t<li>'geometry_columns'</li>\n",
       "\t<li>'raster_columns'</li>\n",
       "\t<li>'raster_overviews'</li>\n",
       "\t<li>'hazard_point'</li>\n",
       "\t<li>'data_source'</li>\n",
       "\t<li>'dd_type'</li>\n",
       "\t<li>'dd_att_unit'</li>\n",
       "\t<li>'dd_att_name'</li>\n",
       "\t<li>'hz_att_category'</li>\n",
       "\t<li>'locations'</li>\n",
       "\t<li>'utm_grid'</li>\n",
       "\t<li>'hz_att_unit'</li>\n",
       "\t<li>'hz_att_name'</li>\n",
       "\t<li>'hz_type'</li>\n",
       "\t<li>'persons'</li>\n",
       "\t<li>'care_site'</li>\n",
       "\t<li>'dd_att_category'</li>\n",
       "\t<li>'hz_attribute'</li>\n",
       "\t<li>'location_history'</li>\n",
       "\t<li>'site_history'</li>\n",
       "\t<li>'dd_attribute'</li>\n",
       "\t<li>'demographic_division'</li>\n",
       "\t<li>'sites'</li>\n",
       "</ol>\n"
      ],
      "text/latex": [
       "\\begin{enumerate*}\n",
       "\\item 'spatial\\_ref\\_sys'\n",
       "\\item 'geography\\_columns'\n",
       "\\item 'geometry\\_columns'\n",
       "\\item 'raster\\_columns'\n",
       "\\item 'raster\\_overviews'\n",
       "\\item 'hazard\\_point'\n",
       "\\item 'data\\_source'\n",
       "\\item 'dd\\_type'\n",
       "\\item 'dd\\_att\\_unit'\n",
       "\\item 'dd\\_att\\_name'\n",
       "\\item 'hz\\_att\\_category'\n",
       "\\item 'locations'\n",
       "\\item 'utm\\_grid'\n",
       "\\item 'hz\\_att\\_unit'\n",
       "\\item 'hz\\_att\\_name'\n",
       "\\item 'hz\\_type'\n",
       "\\item 'persons'\n",
       "\\item 'care\\_site'\n",
       "\\item 'dd\\_att\\_category'\n",
       "\\item 'hz\\_attribute'\n",
       "\\item 'location\\_history'\n",
       "\\item 'site\\_history'\n",
       "\\item 'dd\\_attribute'\n",
       "\\item 'demographic\\_division'\n",
       "\\item 'sites'\n",
       "\\end{enumerate*}\n"
      ],
      "text/markdown": [
       "1. 'spatial_ref_sys'\n",
       "2. 'geography_columns'\n",
       "3. 'geometry_columns'\n",
       "4. 'raster_columns'\n",
       "5. 'raster_overviews'\n",
       "6. 'hazard_point'\n",
       "7. 'data_source'\n",
       "8. 'dd_type'\n",
       "9. 'dd_att_unit'\n",
       "10. 'dd_att_name'\n",
       "11. 'hz_att_category'\n",
       "12. 'locations'\n",
       "13. 'utm_grid'\n",
       "14. 'hz_att_unit'\n",
       "15. 'hz_att_name'\n",
       "16. 'hz_type'\n",
       "17. 'persons'\n",
       "18. 'care_site'\n",
       "19. 'dd_att_category'\n",
       "20. 'hz_attribute'\n",
       "21. 'location_history'\n",
       "22. 'site_history'\n",
       "23. 'dd_attribute'\n",
       "24. 'demographic_division'\n",
       "25. 'sites'\n",
       "\n",
       "\n"
      ],
      "text/plain": [
       " [1] \"spatial_ref_sys\"      \"geography_columns\"    \"geometry_columns\"    \n",
       " [4] \"raster_columns\"       \"raster_overviews\"     \"hazard_point\"        \n",
       " [7] \"data_source\"          \"dd_type\"              \"dd_att_unit\"         \n",
       "[10] \"dd_att_name\"          \"hz_att_category\"      \"locations\"           \n",
       "[13] \"utm_grid\"             \"hz_att_unit\"          \"hz_att_name\"         \n",
       "[16] \"hz_type\"              \"persons\"              \"care_site\"           \n",
       "[19] \"dd_att_category\"      \"hz_attribute\"         \"location_history\"    \n",
       "[22] \"site_history\"         \"dd_attribute\"         \"demographic_division\"\n",
       "[25] \"sites\"               "
      ]
     },
     "metadata": {},
     "output_type": "display_data"
    }
   ],
   "source": [
    "library(DBI)\n",
    "\n",
    "# make db connection\n",
    "# for format of database file see db/env/db_conf.txt\n",
    "db <- read.delim( '../../db/env/feta.txt', header=TRUE, sep=' ' )\n",
    "con <- dbConnect(RPostgres::Postgres(),\n",
    "                 dbname = toString(db$database[1]),\n",
    "                 host = toString(db$host[1]),\n",
    "                 port = 5432,\n",
    "                 user = toString(db$user),\n",
    "                 password = toString(db$pass))\n",
    "\n",
    "# check the connection\n",
    "dbListTables(con)"
   ]
  },
  {
   "cell_type": "markdown",
   "metadata": {},
   "source": [
    "### load TRI data"
   ]
  },
  {
   "cell_type": "code",
   "execution_count": null,
   "metadata": {},
   "outputs": [],
   "source": [
    "tridata <- read.csv('tri_2018_us.csv')"
   ]
  },
  {
   "cell_type": "code",
   "execution_count": null,
   "metadata": {},
   "outputs": [],
   "source": [
    "#tridata[1:50,10:30]"
   ]
  },
  {
   "cell_type": "code",
   "execution_count": null,
   "metadata": {},
   "outputs": [],
   "source": [
    "# function to populate names, types and units in respective attribute tables\n",
    "loadvocab <- function(table,words) {\n",
    "    sql <- paste(\"select count(*) from \",table,\" where name like $1\")\n",
    "    res <- dbSendQuery(con,sql)\n",
    "    dbBind(res, list(words[1]))\n",
    "    found <- dbFetch(res)[1,1]\n",
    "    dbClearResult(res)\n",
    "    if (found == 0) {\n",
    "        for (word in words) {\n",
    "            sql <- paste(\"insert into \",table,\" (name) values($1) returning id\")\n",
    "            res <- dbSendQuery(con,sql)\n",
    "            dbBind(res, list(word))\n",
    "            dbClearResult(res)\n",
    "        }\n",
    "    }\n",
    "    sql <- paste(\"select * from \",table)\n",
    "    res <- dbSendQuery(con,sql)\n",
    "    vocab <- dbFetch(res)\n",
    "    dbClearResult(res)\n",
    "    return (vocab)\n",
    "}"
   ]
  },
  {
   "cell_type": "code",
   "execution_count": null,
   "metadata": {},
   "outputs": [],
   "source": [
    "# get all units, location types, and so on\n",
    "attunits <- unique(tridata[,39])\n",
    "levels(attunits) = c(levels(attunits),c('Boolean'))\n",
    "attunits[3] <- \"Boolean\"\n",
    "attunits <- loadvocab('hz_att_unit',attunits)\n",
    "#attunits\n",
    "loctypes <- unique(tridata[,16])\n",
    "loctypes <- loadvocab('hz_type',loctypes)\n",
    "#loctypes\n",
    "attnames <- unique(tridata[,30])\n",
    "attnames <- loadvocab('hz_att_name',attnames)\n",
    "#attnames\n",
    "attcats <- c('Carcinogen','Metal','Carcinogen|Metal')\n",
    "attcats <- loadvocab('hz_att_category',attcats)\n",
    "#attcats"
   ]
  },
  {
   "cell_type": "markdown",
   "metadata": {},
   "source": [
    "### Put TRI data into database "
   ]
  },
  {
   "cell_type": "code",
   "execution_count": null,
   "metadata": {},
   "outputs": [],
   "source": [
    "# get TRIFDs only for Florida TRI data\n",
    "flIDs <- subset(tridata, X8..ST==\"FL\",select=X2..TRIFD)\n",
    "locIDs <- unique(flIDs[,1])"
   ]
  },
  {
   "cell_type": "code",
   "execution_count": null,
   "metadata": {},
   "outputs": [],
   "source": [
    "for (locID in locIDs) {\n",
    "    \n",
    "    # get all attributes for one location\n",
    "    locAttrs <- subset(tridata, X2..TRIFD==locID)\n",
    "    print(locID)\n",
    "    \n",
    "    # get location and description from first line of TRI attributes where the TRIFD is constrained\n",
    "    hzpname <- paste(locAttrs[1,]$X4..FACILITY.NAME)\n",
    "    hzpdesc <- paste(locAttrs[1,]$X5..STREET.ADDRESS,locAttrs[1,]$X6..CITY,locAttrs[1,]$X8..ST,locAttrs[1,]$X9..ZIP)\n",
    "    hzplat <- locAttrs[1,][1,12]\n",
    "    hzplon <- locAttrs[1,][1,13]\n",
    "    hzptype <- loctypes[which(loctypes$name==locAttrs[1,][16]$X16..INDUSTRY.SECTOR),]$id\n",
    "    hzpsource <- 1\n",
    "\n",
    "    # create a point from the first line of TRI attributes where the TRIFD is constrained\n",
    "    sql <- 'insert into hazard_point (\"name\", \"desc\", \"geom\", \"hz_type_id\", \"hz_source_id\") \n",
    "            values ($1,$2,ST_MakePoint($3,$4),$5,$6)\n",
    "            returning id'\n",
    "    res <- dbSendQuery(con,sql)\n",
    "    dbBind(res, list(hzpname,hzpdesc,hzplon,hzplat,hzptype,hzpsource))\n",
    "    hazard_point_ID = dbFetch(res)[1,1]\n",
    "    dbClearResult(res)\n",
    "    #hazard_point_ID = 1\n",
    "    #print(paste(hzpname,hzpdesc,hzplon,hzplat,hzpsource))\n",
    "\n",
    "    # step through attributes from this TRIFD and add to attributes table\n",
    "    apply(locAttrs, 1, function(vec) {\n",
    "        hz_category_id <- NA\n",
    "        if (vec[35] == \"YES\" & vec[37] == \"YES\") {\n",
    "            hz_category_id <- 3\n",
    "        } else if (vec[35] == \"YES\") {\n",
    "            hz_category_id <- 2\n",
    "        } else if (vec[37] == \"YES\") {\n",
    "            hz_category_id <- 1\n",
    "        }\n",
    "        hz_unit_id = attunits[which(attunits$name==vec[39]),]$id\n",
    "        hz_name_id = attnames[which(attnames$name==vec[30]),]$id\n",
    "        sql <- \"insert into hz_attribute (hz_point_id,hz_category_id,hz_unit_id,hz_name_id,value) \n",
    "                    values($1,$2,$3,$4,$5)\"\n",
    "        res <- dbSendQuery(con,sql)\n",
    "        #NOTE this is a major simplication of the TRI data - only the On-Site Relese Total as the value\n",
    "        dbBind(res, list(hazard_point_ID,hz_category_id,hz_unit_id,hz_name_id,vec[54]))\n",
    "        dbClearResult(res)\n",
    "        #print(paste(hazard_point_ID,hz_category_id,hz_unit_id,hz_name_id,vec[54]))\n",
    "    })\n",
    "}"
   ]
  },
  {
   "cell_type": "code",
   "execution_count": null,
   "metadata": {},
   "outputs": [],
   "source": []
  }
 ],
 "metadata": {
  "kernelspec": {
   "display_name": "R",
   "language": "R",
   "name": "ir"
  },
  "language_info": {
   "codemirror_mode": "r",
   "file_extension": ".r",
   "mimetype": "text/x-r-source",
   "name": "R",
   "pygments_lexer": "r",
   "version": "3.6.0"
  }
 },
 "nbformat": 4,
 "nbformat_minor": 2
}
