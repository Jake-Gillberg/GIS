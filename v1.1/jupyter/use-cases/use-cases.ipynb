{
 "cells": [
  {
   "cell_type": "markdown",
   "metadata": {},
   "source": [
    "## R script for OMOP GIS use cases"
   ]
  },
  {
   "cell_type": "markdown",
   "metadata": {},
   "source": [
    "### Setup"
   ]
  },
  {
   "cell_type": "code",
   "execution_count": 1,
   "metadata": {},
   "outputs": [
    {
     "data": {
      "text/html": [
       "<ol class=list-inline>\n",
       "\t<li>'spatial_ref_sys'</li>\n",
       "\t<li>'geography_columns'</li>\n",
       "\t<li>'geometry_columns'</li>\n",
       "\t<li>'raster_columns'</li>\n",
       "\t<li>'raster_overviews'</li>\n",
       "\t<li>'hazard_point'</li>\n",
       "\t<li>'data_source'</li>\n",
       "\t<li>'dd_type'</li>\n",
       "\t<li>'dd_att_unit'</li>\n",
       "\t<li>'dd_att_name'</li>\n",
       "\t<li>'hz_att_category'</li>\n",
       "\t<li>'locations'</li>\n",
       "\t<li>'utm_grid'</li>\n",
       "\t<li>'hz_att_unit'</li>\n",
       "\t<li>'hz_att_name'</li>\n",
       "\t<li>'hz_type'</li>\n",
       "\t<li>'persons'</li>\n",
       "\t<li>'care_site'</li>\n",
       "\t<li>'dd_att_category'</li>\n",
       "\t<li>'hz_attribute'</li>\n",
       "\t<li>'location_history'</li>\n",
       "\t<li>'site_history'</li>\n",
       "\t<li>'dd_attribute'</li>\n",
       "\t<li>'demographic_division'</li>\n",
       "\t<li>'sites'</li>\n",
       "</ol>\n"
      ],
      "text/latex": [
       "\\begin{enumerate*}\n",
       "\\item 'spatial\\_ref\\_sys'\n",
       "\\item 'geography\\_columns'\n",
       "\\item 'geometry\\_columns'\n",
       "\\item 'raster\\_columns'\n",
       "\\item 'raster\\_overviews'\n",
       "\\item 'hazard\\_point'\n",
       "\\item 'data\\_source'\n",
       "\\item 'dd\\_type'\n",
       "\\item 'dd\\_att\\_unit'\n",
       "\\item 'dd\\_att\\_name'\n",
       "\\item 'hz\\_att\\_category'\n",
       "\\item 'locations'\n",
       "\\item 'utm\\_grid'\n",
       "\\item 'hz\\_att\\_unit'\n",
       "\\item 'hz\\_att\\_name'\n",
       "\\item 'hz\\_type'\n",
       "\\item 'persons'\n",
       "\\item 'care\\_site'\n",
       "\\item 'dd\\_att\\_category'\n",
       "\\item 'hz\\_attribute'\n",
       "\\item 'location\\_history'\n",
       "\\item 'site\\_history'\n",
       "\\item 'dd\\_attribute'\n",
       "\\item 'demographic\\_division'\n",
       "\\item 'sites'\n",
       "\\end{enumerate*}\n"
      ],
      "text/markdown": [
       "1. 'spatial_ref_sys'\n",
       "2. 'geography_columns'\n",
       "3. 'geometry_columns'\n",
       "4. 'raster_columns'\n",
       "5. 'raster_overviews'\n",
       "6. 'hazard_point'\n",
       "7. 'data_source'\n",
       "8. 'dd_type'\n",
       "9. 'dd_att_unit'\n",
       "10. 'dd_att_name'\n",
       "11. 'hz_att_category'\n",
       "12. 'locations'\n",
       "13. 'utm_grid'\n",
       "14. 'hz_att_unit'\n",
       "15. 'hz_att_name'\n",
       "16. 'hz_type'\n",
       "17. 'persons'\n",
       "18. 'care_site'\n",
       "19. 'dd_att_category'\n",
       "20. 'hz_attribute'\n",
       "21. 'location_history'\n",
       "22. 'site_history'\n",
       "23. 'dd_attribute'\n",
       "24. 'demographic_division'\n",
       "25. 'sites'\n",
       "\n",
       "\n"
      ],
      "text/plain": [
       " [1] \"spatial_ref_sys\"      \"geography_columns\"    \"geometry_columns\"    \n",
       " [4] \"raster_columns\"       \"raster_overviews\"     \"hazard_point\"        \n",
       " [7] \"data_source\"          \"dd_type\"              \"dd_att_unit\"         \n",
       "[10] \"dd_att_name\"          \"hz_att_category\"      \"locations\"           \n",
       "[13] \"utm_grid\"             \"hz_att_unit\"          \"hz_att_name\"         \n",
       "[16] \"hz_type\"              \"persons\"              \"care_site\"           \n",
       "[19] \"dd_att_category\"      \"hz_attribute\"         \"location_history\"    \n",
       "[22] \"site_history\"         \"dd_attribute\"         \"demographic_division\"\n",
       "[25] \"sites\"               "
      ]
     },
     "metadata": {},
     "output_type": "display_data"
    }
   ],
   "source": [
    "library(DBI)\n",
    "\n",
    "# make db connection\n",
    "# for format of database file see db/env/db_conf.txt\n",
    "db <- read.delim( '../../db/env/feta.txt', header=TRUE, sep=' ' )\n",
    "con <- dbConnect(RPostgres::Postgres(),\n",
    "                 dbname = toString(db$database[1]),\n",
    "                 host = toString(db$host[1]),\n",
    "                 port = 5432,\n",
    "                 user = toString(db$user),\n",
    "                 password = toString(db$pass))\n",
    "\n",
    "# check the connection\n",
    "dbListTables(con)"
   ]
  },
  {
   "cell_type": "markdown",
   "metadata": {},
   "source": [
    "### Examples"
   ]
  },
  {
   "cell_type": "markdown",
   "metadata": {},
   "source": [
    "### 1 - get all patients within a particular census tract\n",
    "WGS84 - ESPG 4326 (latitude and longitude)"
   ]
  },
  {
   "cell_type": "code",
   "execution_count": null,
   "metadata": {},
   "outputs": [],
   "source": [
    "sql <- \"SELECT row_number() over () AS _uid_,* FROM (\n",
    "          with census_tract as (select geom from demographic_division where code = '12086009100') \n",
    "          select PS.*,L.geom from persons PS \n",
    "          Inner Join location_history LH on PS.person_id = LH.entity_id \n",
    "          Inner Join locations L on L.location_id = LH.location_id \n",
    "          join census_tract on ST_Within(L.geom, census_tract.geom) \n",
    "        ) _subq1\"\n",
    "res <- dbSendQuery(con,sql)\n",
    "dbFetch(res)\n",
    "dbClearResult(res)"
   ]
  },
  {
   "cell_type": "markdown",
   "metadata": {},
   "source": [
    "### 2 - get all patients within a census tract with annual income below $15,000\n",
    "\n",
    "**Use Case:** Patients with demographic criteria X that live within area Y, for duration Z  \n",
    "**Example:** Patients who are over 100 years old that live within the TMC hospital service area for over 5 years  \n",
    "**Functionality Requirements:** 3a, 3b, 4b  \n",
    "\n",
    "**note:** this does not have the 'duration' component \n",
    "\n",
    "WGS84 - ESPG 4326 (latitude and longitude)"
   ]
  },
  {
   "cell_type": "code",
   "execution_count": null,
   "metadata": {},
   "outputs": [],
   "source": [
    "sql <- \"SELECT row_number() over () AS _uid_,* FROM (\n",
    "          with census_tracts as (\n",
    "            select DD.code, ATT.value, DD.geom from dd_attribute ATT\n",
    "            Inner Join demographic_division DD on ATT.demographic_division_id = DD.id\n",
    "            where ATT.dd_name_id = 1 and ATT.value < 15000\n",
    "          ) \n",
    "          select PS.*,L.geom from persons PS \n",
    "          Inner Join location_history LH on PS.person_id = LH.entity_id \n",
    "          Inner Join locations L on L.location_id = LH.location_id \n",
    "          join census_tracts on ST_Within(L.geom, census_tracts.geom) \n",
    "        ) _subq1\"\n",
    "res <- dbSendQuery(con,sql)\n",
    "dbFetch(res)\n",
    "dbClearResult(res)"
   ]
  },
  {
   "cell_type": "markdown",
   "metadata": {},
   "source": [
    "### 3 - get all patients within 1km of a carcinogen emitter (TRI data)\n",
    "\n",
    "**Use Case:** Patients who live within distance X of non-clinical feature Y  \n",
    "**Example:** Patients who live within 5 miles of a paper mill  \n",
    "**Functionality Requirements:** 3a, 4a, 6a/6b, 3e  \n",
    "\n",
    "WGS84 - ESPG 4326 (latitude and longitude)"
   ]
  },
  {
   "cell_type": "code",
   "execution_count": null,
   "metadata": {},
   "outputs": [],
   "source": [
    "sql <- \"with buffers as (\n",
    "            select HZP.name, ST_Buffer(ST_Transform(HZP.geom,32618),1000) as geom from hz_attribute ATT\n",
    "            Inner Join hazard_point HZP on ATT.hz_point_id = HZP.id\n",
    "            where ATT.hz_category_id = 1 or ATT.hz_category_id = 3\n",
    "        ) \n",
    "        select PS.*,L.geom from persons PS \n",
    "        Inner Join location_history LH on PS.person_id = LH.entity_id \n",
    "        Inner Join locations L on L.location_id = LH.location_id \n",
    "        join buffers on ST_Within(ST_Transform(L.geom,32618), buffers.geom)\"\n",
    "res <- dbSendQuery(con,sql)\n",
    "dbFetch(res)\n",
    "dbClearResult(res)"
   ]
  },
  {
   "cell_type": "markdown",
   "metadata": {},
   "source": [
    "UTM 18N - EPSG 32618 (meters) - UM schema"
   ]
  },
  {
   "cell_type": "code",
   "execution_count": null,
   "metadata": {},
   "outputs": [],
   "source": [
    "sql <- \"with buffers as (\n",
    "            select HZP.name, ST_Buffer(HZP.local_geom,1000) as local_geom from hz_attribute ATT\n",
    "            Inner Join hazard_point HZP on ATT.hz_point_id = HZP.id\n",
    "            where ATT.hz_category_id = 1 or ATT.hz_category_id = 3\n",
    "        ) \n",
    "        select PS.*,L.geom from persons PS \n",
    "        Inner Join location_history LH on PS.person_id = LH.entity_id \n",
    "        Inner Join locations L on L.location_id = LH.location_id \n",
    "        join buffers on ST_Within(L.local_geom, buffers.local_geom)\"\n",
    "res <- dbSendQuery(con,sql)\n",
    "dbFetch(res)\n",
    "dbClearResult(res)"
   ]
  },
  {
   "cell_type": "markdown",
   "metadata": {},
   "source": [
    "UTM 18N - EPSG 32618 (meters) - ohdsi schema"
   ]
  },
  {
   "cell_type": "code",
   "execution_count": null,
   "metadata": {},
   "outputs": [],
   "source": [
    "sql <- \"with buffers as (\n",
    "            select geo_florida_tri_2018.name, ST_Buffer(geo_florida_tri_2018.geom_local,1000) as geom_local from attr_florida_tri_2018 ATT\n",
    "            Inner Join hazard_point HZP on ATT.geo_record_id = geo_florida_tri_2018.geo_record_id\n",
    "            where ATT.concept_id = 507 and (ATT.value_as_concept_id = 1 or ATT.hz_category_id = 3\n",
    "        ) \n",
    "        select PS.*,L.geom from persons PS \n",
    "        Inner Join location_history LH on PS.person_id = LH.entity_id \n",
    "        Inner Join locations L on L.location_id = LH.location_id \n",
    "        join buffers on ST_Within(L.local_geom, buffers.local_geom)\"\n",
    "res <- dbSendQuery(con,sql)\n",
    "dbFetch(res)\n",
    "dbClearResult(res)"
   ]
  },
  {
   "cell_type": "markdown",
   "metadata": {},
   "source": [
    "### 4 - get all patients within census block that contains a carcinogen emitter (TRI data)\n",
    "\n",
    "**Use Case:** Patients who live in an area that contains a non-clinical feature Y\t\n",
    "**Example:** Paper mill in same census tract as residence\t\n",
    "**Functionality Requirements:** 3a, 4a, 4b\n",
    "\n",
    "UTM 18N - ESPG 32618 (meters)"
   ]
  },
  {
   "cell_type": "code",
   "execution_count": null,
   "metadata": {},
   "outputs": [],
   "source": [
    "sql <- \"SELECT row_number() OVER () AS _uid_,* FROM (\n",
    "          WITH CG AS (\n",
    "            SELECT HZP.name, HZP.local_geom FROM hz_attribute ATT\n",
    "            INNER JOIN hazard_point HZP ON ATT.hz_point_id = HZP.id\n",
    "            WHERE ATT.hz_category_id = 1 OR ATT.hz_category_id = 3\n",
    "          ), \n",
    "          CT AS (\n",
    "            SELECT DD.code, DD.local_geom FROM demographic_division DD\n",
    "            JOIN CG ON ST_Contains(DD.local_geom,CG.local_geom)\n",
    "          ) \n",
    "          SELECT PS.*,L.local_geom FROM persons PS \n",
    "          INNER JOIN location_history LH ON PS.person_id = LH.entity_id \n",
    "          INNER JOIN locations L ON L.location_id = LH.location_id \n",
    "          JOIN CT ON ST_Within(L.local_geom, CT.local_geom) \n",
    "        ) _subq1\"\n",
    "res <- dbSendQuery(con,sql)\n",
    "dbFetch(res)\n",
    "dbClearResult(res)"
   ]
  },
  {
   "cell_type": "markdown",
   "metadata": {},
   "source": [
    "### 5 - get all patients within 1km of network care sites\n",
    "\n",
    "**Use Case:** Given a list of care sites, patients who lived within Y miles on date range Z  \t\n",
    "**Example:** For a list of in-network care sites, which patients live within 10 miles  \n",
    "**Functionality Requirements:** 3a, 3b, 4a, 6b\n",
    "\n",
    "UTM 18N - EPSG 32618 (meters)"
   ]
  },
  {
   "cell_type": "code",
   "execution_count": null,
   "metadata": {},
   "outputs": [],
   "source": [
    "sql <- \"WITH CB AS (\n",
    "            SELECT CS.care_site_name, ST_Buffer(CSL.local_geom,1000) AS local_geom FROM care_site CS\n",
    "            INNER JOIN site_history SH ON SH.entity_id = CS.care_site_id\n",
    "            INNER JOIN sites CSL ON SH.site_id = CSL.site_id\n",
    "            WHERE CS.place_of_service_concept_id = 0\n",
    "        ) \n",
    "        SELECT PS.*,L.local_geom FROM persons PS \n",
    "        INNER JOIN location_history LH ON PS.person_id = LH.entity_id \n",
    "        INNER JOIN locations L ON L.location_id = LH.location_id \n",
    "        JOIN CB ON ST_Within(L.local_geom, CB.local_geom)\"\n",
    "res <- dbSendQuery(con,sql)\n",
    "dbFetch(res)\n",
    "dbClearResult(res)"
   ]
  },
  {
   "cell_type": "code",
   "execution_count": null,
   "metadata": {},
   "outputs": [],
   "source": [
    "sql <- \"SELECT PS.*,L.local_geom FROM persons PS, care_site CS, sites CSL, location_history LH, locations L\n",
    "        Where CS.place_of_service_concept_id = 0\n",
    "        and CS.site_id = CSL.site_id\n",
    "        and PS.person_id = LH.entity_id\n",
    "        and L.location_id = LH.location_id\n",
    "        and ST_Within(L.local_geom, ST_Buffer(CSL.local_geom, 1000))\"\n",
    "res <- dbSendQuery(con,sql)\n",
    "dbFetch(res)\n",
    "dbClearResult(res)"
   ]
  },
  {
   "cell_type": "markdown",
   "metadata": {},
   "source": [
    "### 6 - get all patients who are more than 5 kilometers from a care site\n",
    "\n",
    "**Use Case:** Patients who traveled over Y miles for primary care visit  \t\n",
    "**Example:** Patients who must travel greater than 50 miles to PCP\n",
    "**Functionality Requirements:** 3a, 3b, 6a\n",
    "\n",
    "UTM 18N - EPSG 32618 (meters)"
   ]
  },
  {
   "cell_type": "code",
   "execution_count": null,
   "metadata": {},
   "outputs": [],
   "source": [
    "sql <- \"WITH CB AS (\n",
    "            SELECT CS.care_site_name, ST_Buffer(CSL.local_geom,5000) AS local_geom FROM care_site CS\n",
    "            INNER JOIN site_history SH ON SH.entity_id = CS.care_site_id\n",
    "            INNER JOIN sites CSL ON SH.site_id = CSL.site_id\n",
    "            WHERE CS.place_of_service_concept_id = 0\n",
    "        ) \n",
    "        SELECT persons.*,L.local_geom FROM persons \n",
    "        INNER JOIN location_history LH ON person_id = LH.entity_id \n",
    "        INNER JOIN locations L ON L.location_id = LH.location_id\n",
    "        WHERE person_id NOT IN (\n",
    "            SELECT PS.person_id FROM persons PS\n",
    "            INNER JOIN location_history LH ON PS.person_id = LH.entity_id \n",
    "            INNER JOIN locations L ON L.location_id = LH.location_id \n",
    "            JOIN CB ON ST_Within(L.local_geom, CB.local_geom)\n",
    "        )\"\n",
    "res <- dbSendQuery(con,sql)\n",
    "dbFetch(res)\n",
    "dbClearResult(res)"
   ]
  },
  {
   "cell_type": "code",
   "execution_count": null,
   "metadata": {},
   "outputs": [],
   "source": []
  }
 ],
 "metadata": {
  "kernelspec": {
   "display_name": "R",
   "language": "R",
   "name": "ir"
  },
  "language_info": {
   "codemirror_mode": "r",
   "file_extension": ".r",
   "mimetype": "text/x-r-source",
   "name": "R",
   "pygments_lexer": "r",
   "version": "3.6.0"
  }
 },
 "nbformat": 4,
 "nbformat_minor": 2
}
